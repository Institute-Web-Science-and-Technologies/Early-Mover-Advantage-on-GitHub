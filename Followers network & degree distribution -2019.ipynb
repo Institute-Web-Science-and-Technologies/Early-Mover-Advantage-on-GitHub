{
 "cells": [
  {
   "cell_type": "code",
   "execution_count": 1,
   "metadata": {},
   "outputs": [],
   "source": [
    "from IPython.core.interactiveshell import InteractiveShell\n",
    "InteractiveShell.ast_node_interactivity = \"all\"\n",
    "import matplotlib.pyplot as plt\n",
    "import networkx as nx  \n",
    "import pandas as pd\n",
    "import numpy as np\n",
    "from scipy import sparse\n",
    "import gc"
   ]
  },
  {
   "cell_type": "markdown",
   "metadata": {},
   "source": [
    "## Utility functions\n",
    "Utility functions created to process data from long dictionaries."
   ]
  },
  {
   "cell_type": "markdown",
   "metadata": {},
   "source": [
    ">### degree_freq(G)\n",
    "\n",
    "<br>**PARAMETERS:** G (graph) – A NetworkX graph.\n",
    "<br>\n",
    "<br>**RETURNS:**\n",
    "<br>in_deg_freq --> Dictionary of Indegree values (as keys) and the number of nodes that have that indegree  (as a value).\n",
    "<br>out_deg_freq --> Dictionary of Outdegree values (as keys) and the number of nodes that have that outdegree (as a value).\n",
    "<br>all_in_deg --> Dictionary of all nodes, with their indegree as value (native function of NetworkX does not return a dictionary)\n",
    "<br> all_out_deg --> Dictionary of all nodes, with their outdegree as value (native function of NetworkX does not return a dictionary)\n",
    "<br>\n",
    "<br>**RETURN TYPE:** dictionary\n"
   ]
  },
  {
   "cell_type": "code",
   "execution_count": 2,
   "metadata": {},
   "outputs": [],
   "source": [
    "def degree_freq(graph):\n",
    "    in_deg_freq = {}\n",
    "    all_in_deg ={}\n",
    "\n",
    "    out_deg_freq = {}\n",
    "    all_out_deg ={}\n",
    "    \n",
    "    for n in graph.nodes():\n",
    "        in_deg = graph.in_degree(n)\n",
    "        out_deg= graph.out_degree(n)\n",
    "        \n",
    "        all_in_deg[n] = in_deg\n",
    "        all_out_deg[n]= out_deg\n",
    "        \n",
    "        if in_deg not in in_deg_freq:\n",
    "            in_deg_freq[in_deg] = 0\n",
    "        in_deg_freq[in_deg]+= 1\n",
    "        \n",
    "        if out_deg not in out_deg_freq:\n",
    "            out_deg_freq[out_deg] = 0\n",
    "        out_deg_freq[out_deg]+= 1      \n",
    "    \n",
    "    return in_deg_freq, all_in_deg, out_deg_freq, all_out_deg"
   ]
  },
  {
   "cell_type": "markdown",
   "metadata": {},
   "source": [
    ">### get_top_values(d, t)\n",
    "\n",
    "Given a dictionary, this function orders it by the value (descending order) and returns a smaller dictionary with the N-top values with their keys.\n",
    "**PARAMETERS:** \n",
    "<br> d (dictionary) – a dictionary with un-ordered values\n",
    "<br> t (int) – the number of top values to retrieve\n",
    "<br>**RETURNS:**\n",
    "<br> new_d --> Dictionary with ordered keys, with highest values.\n",
    "<br>**RETURN TYPE:** dictionary\n"
   ]
  },
  {
   "cell_type": "code",
   "execution_count": 3,
   "metadata": {},
   "outputs": [],
   "source": [
    "def get_top_values(d, t):\n",
    "    new_d={}\n",
    "    sorted_keys = sorted(d, key=d.get, reverse=True)\n",
    "    for x in sorted_keys[:t]:\n",
    "        new_d[x] = d[x]\n",
    "    return new_d"
   ]
  },
  {
   "cell_type": "markdown",
   "metadata": {},
   "source": [
    ">### get_top_keys(D,top)\n",
    "\n",
    "Given a dictionary, this function orders it by the key (descending order) and returns a list of tuples, with the N-top keys and their values.\n",
    "**PARAMETERS:** \n",
    "<br> D (dictionary) – a dictionary with un-ordered keys\n",
    "<br> top (int) – the number of n top values \n",
    "<br>**RETURNS:**\n",
    "<br> item --> List of tuples (key,value)\n",
    "<br>**RETURN TYPE:** list\n"
   ]
  },
  {
   "cell_type": "code",
   "execution_count": 4,
   "metadata": {},
   "outputs": [],
   "source": [
    "def get_top_keys(dictionary, top):\n",
    "    item = list(reversed(sorted(dictionary.items())))\n",
    "    return item[:top]"
   ]
  },
  {
   "cell_type": "markdown",
   "metadata": {},
   "source": [
    "## Load dataset of users & followers\n",
    "For this purpose, we are using the files *followers.csv* and *users.csv*, contained in the MySQL dump that is published by **The GHTorrent project**.\n",
    "<br>The file *followers.csv* contains three columns, containing the date of creation of the link and the user IDs, indicating if a user follows another. In graphs and network theory, this type of table it is know as \"adjacency list\". \n",
    "<br>\n",
    "<br>The file *users.csv* contains several columns with user information(user name, id, creation of the account, country, company, email, etc). We use this table only to map the relationship between *user ID number* and *login name*.\n",
    "<br>\n",
    "<br>The used tables contain all users ( and their relationships) that were created **until January 2019**.\n",
    "<br>\n",
    "<br>__[Link to download the MySQL dump: mysql-2019-01-01.tar.gz (size of 90.1 GB)](http://ghtorrent-downloads.ewi.tudelft.nl/mysql/mysql-2019-01-01.tar.gz)__"
   ]
  },
  {
   "cell_type": "code",
   "execution_count": 20,
   "metadata": {},
   "outputs": [],
   "source": [
    "#LOAD DATA FROM CSV, only load the first two columns\n",
    "file_path1 = r'.\\..\\2018\\followers.csv'\n",
    "df_f = pd.read_csv(file_path1, index_col=False, usecols=[0,1], names=['follower_id', 'user_id'])"
   ]
  },
  {
   "cell_type": "code",
   "execution_count": 11,
   "metadata": {},
   "outputs": [
    {
     "name": "stderr",
     "output_type": "stream",
     "text": [
      "b'Skipping line 28844: expected 13 fields, saw 14\\n'\n",
      "b'Skipping line 127060: expected 13 fields, saw 16\\nSkipping line 130093: expected 13 fields, saw 14\\n'\n",
      "b'Skipping line 140110: expected 13 fields, saw 14\\n'\n",
      "b'Skipping line 223215: expected 13 fields, saw 16\\nSkipping line 240360: expected 13 fields, saw 15\\n'\n",
      "b'Skipping line 274140: expected 13 fields, saw 14\\nSkipping line 287603: expected 13 fields, saw 14\\nSkipping line 303874: expected 13 fields, saw 14\\nSkipping line 327509: expected 13 fields, saw 15\\n'\n",
      "b'Skipping line 455083: expected 13 fields, saw 14\\n'\n",
      "b'Skipping line 491713: expected 13 fields, saw 14\\n'\n",
      "b'Skipping line 828312: expected 13 fields, saw 14\\n'\n",
      "b'Skipping line 870291: expected 13 fields, saw 15\\n'\n",
      "b'Skipping line 935277: expected 13 fields, saw 14\\n'\n",
      "b'Skipping line 1117721: expected 13 fields, saw 24\\nSkipping line 1132208: expected 13 fields, saw 14\\n'\n",
      "b'Skipping line 1257324: expected 13 fields, saw 15\\n'\n",
      "b'Skipping line 1353050: expected 13 fields, saw 14\\nSkipping line 1362652: expected 13 fields, saw 14\\n'\n",
      "b'Skipping line 1592961: expected 13 fields, saw 15\\n'\n",
      "b'Skipping line 1642547: expected 13 fields, saw 14\\nSkipping line 1660696: expected 13 fields, saw 14\\n'\n",
      "b'Skipping line 1819829: expected 13 fields, saw 14\\n'\n",
      "b'Skipping line 1849619: expected 13 fields, saw 14\\n'\n",
      "b'Skipping line 1940649: expected 13 fields, saw 14\\n'\n",
      "b'Skipping line 1966377: expected 13 fields, saw 14\\n'\n",
      "b'Skipping line 2062125: expected 13 fields, saw 14\\n'\n",
      "b'Skipping line 2105998: expected 13 fields, saw 16\\n'\n",
      "b'Skipping line 2176996: expected 13 fields, saw 14\\n'\n",
      "b'Skipping line 2415458: expected 13 fields, saw 14\\n'\n",
      "b'Skipping line 2850607: expected 13 fields, saw 14\\n'\n",
      "b'Skipping line 3085657: expected 13 fields, saw 14\\n'\n",
      "b'Skipping line 3201163: expected 13 fields, saw 14\\n'\n",
      "b'Skipping line 3836510: expected 13 fields, saw 14\\n'\n",
      "b'Skipping line 3944442: expected 13 fields, saw 14\\n'\n",
      "b'Skipping line 4289662: expected 13 fields, saw 14\\n'\n",
      "b'Skipping line 4331066: expected 13 fields, saw 14\\n'\n",
      "b'Skipping line 4508631: expected 13 fields, saw 15\\nSkipping line 4520438: expected 13 fields, saw 14\\n'\n",
      "b'Skipping line 4785987: expected 13 fields, saw 14\\n'\n",
      "b'Skipping line 5290984: expected 13 fields, saw 14\\n'\n",
      "b'Skipping line 5385119: expected 13 fields, saw 14\\n'\n",
      "b'Skipping line 5454857: expected 13 fields, saw 14\\n'\n",
      "b'Skipping line 5758378: expected 13 fields, saw 14\\n'\n",
      "b'Skipping line 5924336: expected 13 fields, saw 19\\n'\n",
      "b'Skipping line 5967073: expected 13 fields, saw 17\\nSkipping line 6014479: expected 13 fields, saw 14\\n'\n",
      "b'Skipping line 6451220: expected 13 fields, saw 14\\n'\n",
      "b'Skipping line 6491955: expected 13 fields, saw 14\\n'\n",
      "b'Skipping line 7339759: expected 13 fields, saw 16\\n'\n",
      "b'Skipping line 7561264: expected 13 fields, saw 19\\n'\n",
      "b'Skipping line 7616153: expected 13 fields, saw 14\\n'\n",
      "b'Skipping line 7750778: expected 13 fields, saw 14\\n'\n",
      "b'Skipping line 7955483: expected 13 fields, saw 14\\n'\n",
      "b'Skipping line 8000903: expected 13 fields, saw 14\\n'\n",
      "b'Skipping line 8216220: expected 13 fields, saw 14\\n'\n",
      "b'Skipping line 8260633: expected 13 fields, saw 14\\n'\n",
      "b'Skipping line 8564154: expected 13 fields, saw 14\\n'\n",
      "b'Skipping line 9845385: expected 13 fields, saw 14\\n'\n",
      "b'Skipping line 9997720: expected 13 fields, saw 14\\n'\n",
      "b'Skipping line 10098160: expected 13 fields, saw 14\\nSkipping line 10132407: expected 13 fields, saw 14\\n'\n",
      "b'Skipping line 10169033: expected 13 fields, saw 14\\n'\n",
      "b'Skipping line 10230129: expected 13 fields, saw 14\\n'\n",
      "b'Skipping line 10317822: expected 13 fields, saw 15\\n'\n",
      "b'Skipping line 10492572: expected 13 fields, saw 14\\n'\n",
      "b'Skipping line 10588003: expected 13 fields, saw 24\\n'\n",
      "b'Skipping line 10642422: expected 13 fields, saw 14\\nSkipping line 10661553: expected 13 fields, saw 14\\n'\n",
      "b'Skipping line 11151667: expected 13 fields, saw 14\\n'\n",
      "b'Skipping line 11556453: expected 13 fields, saw 14\\n'\n",
      "b'Skipping line 11814032: expected 13 fields, saw 15\\nSkipping line 11831939: expected 13 fields, saw 14\\n'\n",
      "b'Skipping line 11901626: expected 13 fields, saw 18\\n'\n",
      "b'Skipping line 11999539: expected 13 fields, saw 14\\n'\n",
      "b'Skipping line 12124368: expected 13 fields, saw 24\\n'\n",
      "b'Skipping line 13470760: expected 13 fields, saw 27\\n'\n",
      "b'Skipping line 14529071: expected 13 fields, saw 15\\n'\n",
      "b'Skipping line 15049832: expected 13 fields, saw 14\\n'\n",
      "b'Skipping line 15188642: expected 13 fields, saw 14\\n'\n",
      "b'Skipping line 16022359: expected 13 fields, saw 15\\n'\n",
      "b'Skipping line 16539155: expected 13 fields, saw 15\\n'\n",
      "b'Skipping line 17179127: expected 13 fields, saw 24\\n'\n",
      "b'Skipping line 18276062: expected 13 fields, saw 14\\n'\n",
      "b'Skipping line 18715385: expected 13 fields, saw 15\\n'\n",
      "b'Skipping line 19504721: expected 13 fields, saw 17\\n'\n",
      "b'Skipping line 19874551: expected 13 fields, saw 25\\n'\n",
      "b'Skipping line 19929800: expected 13 fields, saw 16\\n'\n",
      "b'Skipping line 21464545: expected 13 fields, saw 14\\n'\n",
      "b'Skipping line 21756759: expected 13 fields, saw 17\\n'\n",
      "b'Skipping line 22064589: expected 13 fields, saw 16\\n'\n",
      "b'Skipping line 22291205: expected 13 fields, saw 14\\n'\n",
      "b'Skipping line 22660011: expected 13 fields, saw 15\\n'\n",
      "b'Skipping line 23545232: expected 13 fields, saw 14\\n'\n",
      "b'Skipping line 25595182: expected 13 fields, saw 14\\n'\n",
      "b'Skipping line 26236786: expected 13 fields, saw 15\\n'\n",
      "b'Skipping line 26700023: expected 13 fields, saw 14\\n'\n",
      "b'Skipping line 27551475: expected 13 fields, saw 14\\n'\n"
     ]
    }
   ],
   "source": [
    "#LOAD DATA FROM CSV, only load the first two columns\n",
    "#file_path2 = r'.\\2018\\users.csv'\n",
    "#df_u = pd.read_csv(file_path2, sep=',', index_col=False, usecols=[0,1], names=['id','login'])\n",
    "\n",
    "df_u = pd.read_csv(r'.\\..\\2018\\users.csv', sep=',', index_col=False, error_bad_lines=False)"
   ]
  },
  {
   "cell_type": "code",
   "execution_count": 12,
   "metadata": {},
   "outputs": [
    {
     "data": {
      "text/html": [
       "<div>\n",
       "<style scoped>\n",
       "    .dataframe tbody tr th:only-of-type {\n",
       "        vertical-align: middle;\n",
       "    }\n",
       "\n",
       "    .dataframe tbody tr th {\n",
       "        vertical-align: top;\n",
       "    }\n",
       "\n",
       "    .dataframe thead th {\n",
       "        text-align: right;\n",
       "    }\n",
       "</style>\n",
       "<table border=\"1\" class=\"dataframe\">\n",
       "  <thead>\n",
       "    <tr style=\"text-align: right;\">\n",
       "      <th></th>\n",
       "      <th>id</th>\n",
       "      <th>login</th>\n",
       "      <th>type</th>\n",
       "    </tr>\n",
       "  </thead>\n",
       "  <tbody>\n",
       "    <tr>\n",
       "      <th>0</th>\n",
       "      <td>1</td>\n",
       "      <td>tosch</td>\n",
       "      <td>USR</td>\n",
       "    </tr>\n",
       "    <tr>\n",
       "      <th>1</th>\n",
       "      <td>2</td>\n",
       "      <td>jmettraux</td>\n",
       "      <td>USR</td>\n",
       "    </tr>\n",
       "    <tr>\n",
       "      <th>2</th>\n",
       "      <td>3</td>\n",
       "      <td>SMGNMSKD</td>\n",
       "      <td>USR</td>\n",
       "    </tr>\n",
       "    <tr>\n",
       "      <th>3</th>\n",
       "      <td>4</td>\n",
       "      <td>kennethkalmer</td>\n",
       "      <td>USR</td>\n",
       "    </tr>\n",
       "    <tr>\n",
       "      <th>4</th>\n",
       "      <td>5</td>\n",
       "      <td>weppos</td>\n",
       "      <td>USR</td>\n",
       "    </tr>\n",
       "  </tbody>\n",
       "</table>\n",
       "</div>"
      ],
      "text/plain": [
       "   id          login type\n",
       "0   1          tosch  USR\n",
       "1   2      jmettraux  USR\n",
       "2   3       SMGNMSKD  USR\n",
       "3   4  kennethkalmer  USR\n",
       "4   5         weppos  USR"
      ]
     },
     "execution_count": 12,
     "metadata": {},
     "output_type": "execute_result"
    }
   ],
   "source": [
    "#We need to cut the columns we are not going to use and change the header of the dataframe\n",
    "df_u.columns = ['id', 'login','company','created_at','type','fake','deleted','long','lat','country_code','state','city','location']\n",
    "cols_to_keep = ['id', 'login','type']\n",
    "df_u = df_u[cols_to_keep]\n",
    "df_u.head()"
   ]
  },
  {
   "cell_type": "code",
   "execution_count": null,
   "metadata": {},
   "outputs": [],
   "source": [
    "df_u.head()"
   ]
  },
  {
   "cell_type": "code",
   "execution_count": 13,
   "metadata": {},
   "outputs": [],
   "source": [
    "#we are not considering the ORG (organization accounts) and the ones labeled with 0 (innactive accounts)\n",
    "df_ORG = df_u.loc[ df_u['type']=='ORG']\n",
    "df_zero= df_u.loc[ df_u['type']=='0']\n",
    "\n",
    "# we don't need this columns\n",
    "del df_ORG['login']\n",
    "del df_ORG['type']\n",
    "del df_zero['login']\n",
    "del df_zero['type']"
   ]
  },
  {
   "cell_type": "code",
   "execution_count": 15,
   "metadata": {},
   "outputs": [
    {
     "data": {
      "text/plain": [
       "20"
      ]
     },
     "execution_count": 15,
     "metadata": {},
     "output_type": "execute_result"
    },
    {
     "data": {
      "text/plain": [
       "0"
      ]
     },
     "execution_count": 15,
     "metadata": {},
     "output_type": "execute_result"
    }
   ],
   "source": [
    "gc.collect()\n",
    "gc.collect()"
   ]
  },
  {
   "cell_type": "code",
   "execution_count": 16,
   "metadata": {},
   "outputs": [
    {
     "name": "stdout",
     "output_type": "stream",
     "text": [
      "Number of users: 29542940\n"
     ]
    }
   ],
   "source": [
    "print(\"Number of users:\", df_u.shape[0])"
   ]
  },
  {
   "cell_type": "code",
   "execution_count": 36,
   "metadata": {},
   "outputs": [
    {
     "data": {
      "text/plain": [
       "[('df_trim', 710007720),\n",
       " ('InteractiveShell', 1056),\n",
       " ('degree_freq', 136),\n",
       " ('get_top_keys', 136),\n",
       " ('get_top_values', 136),\n",
       " ('file_path1', 120),\n",
       " ('cols_to_keep', 88),\n",
       " ('np', 80),\n",
       " ('nx', 80),\n",
       " ('pd', 80),\n",
       " ('plt', 80),\n",
       " ('sparse', 80)]"
      ]
     },
     "execution_count": 36,
     "metadata": {},
     "output_type": "execute_result"
    }
   ],
   "source": [
    "import sys\n",
    "# These are the usual ipython objects, including this one you are creating\n",
    "ipython_vars = ['In', 'Out', 'exit', 'quit', 'get_ipython', 'ipython_vars']\n",
    "\n",
    "# Get a sorted list of the objects and their sizes\n",
    "sorted([(x, sys.getsizeof(globals().get(x))) for x in dir() if not x.startswith('_') and x not in sys.modules and x not in ipython_vars], key=lambda x: x[1], reverse=True)\n"
   ]
  },
  {
   "cell_type": "code",
   "execution_count": 21,
   "metadata": {},
   "outputs": [],
   "source": [
    "# 1 - delete nodes from the 'user_id' col, that are ZERO type\n",
    "df_trim = df_f[~df_f.user_id.isin(df_zero.id)]\n",
    "\n",
    "# delete nodes form the 'follower_id' col, that are ZERO type\n",
    "df_trim = df_trim[~df_trim.follower_id.isin(df_zero.id)]"
   ]
  },
  {
   "cell_type": "code",
   "execution_count": 23,
   "metadata": {},
   "outputs": [],
   "source": [
    "# 3 - delete nodes that are ORG type\n",
    "df_trim = df_trim[~df_trim.user_id.isin(df_ORG.id)]\n",
    "df_trim = df_trim[~df_trim.follower_id.isin(df_ORG.id)]"
   ]
  },
  {
   "cell_type": "code",
   "execution_count": 24,
   "metadata": {},
   "outputs": [
    {
     "data": {
      "text/plain": [
       "29583654"
      ]
     },
     "execution_count": 24,
     "metadata": {},
     "output_type": "execute_result"
    }
   ],
   "source": [
    "#29,583,654 - edges\n",
    "df_trim.shape[0]"
   ]
  },
  {
   "cell_type": "code",
   "execution_count": 25,
   "metadata": {},
   "outputs": [
    {
     "data": {
      "text/plain": [
       "3775490"
      ]
     },
     "execution_count": 25,
     "metadata": {},
     "output_type": "execute_result"
    }
   ],
   "source": [
    "#3,775,490 - Users\n",
    "len(df_trim['user_id'].unique())"
   ]
  },
  {
   "cell_type": "code",
   "execution_count": 27,
   "metadata": {},
   "outputs": [
    {
     "data": {
      "text/html": [
       "<div>\n",
       "<style scoped>\n",
       "    .dataframe tbody tr th:only-of-type {\n",
       "        vertical-align: middle;\n",
       "    }\n",
       "\n",
       "    .dataframe tbody tr th {\n",
       "        vertical-align: top;\n",
       "    }\n",
       "\n",
       "    .dataframe thead th {\n",
       "        text-align: right;\n",
       "    }\n",
       "</style>\n",
       "<table border=\"1\" class=\"dataframe\">\n",
       "  <thead>\n",
       "    <tr style=\"text-align: right;\">\n",
       "      <th></th>\n",
       "      <th>follower_id</th>\n",
       "      <th>user_id</th>\n",
       "    </tr>\n",
       "  </thead>\n",
       "  <tbody>\n",
       "    <tr>\n",
       "      <th>0</th>\n",
       "      <td>1</td>\n",
       "      <td>2</td>\n",
       "    </tr>\n",
       "    <tr>\n",
       "      <th>1</th>\n",
       "      <td>1</td>\n",
       "      <td>4</td>\n",
       "    </tr>\n",
       "    <tr>\n",
       "      <th>2</th>\n",
       "      <td>1</td>\n",
       "      <td>17896</td>\n",
       "    </tr>\n",
       "    <tr>\n",
       "      <th>3</th>\n",
       "      <td>1</td>\n",
       "      <td>21523</td>\n",
       "    </tr>\n",
       "    <tr>\n",
       "      <th>4</th>\n",
       "      <td>1</td>\n",
       "      <td>29121</td>\n",
       "    </tr>\n",
       "  </tbody>\n",
       "</table>\n",
       "</div>"
      ],
      "text/plain": [
       "   follower_id  user_id\n",
       "0            1        2\n",
       "1            1        4\n",
       "2            1    17896\n",
       "3            1    21523\n",
       "4            1    29121"
      ]
     },
     "execution_count": 27,
     "metadata": {},
     "output_type": "execute_result"
    }
   ],
   "source": [
    "df_trim.head()"
   ]
  },
  {
   "cell_type": "code",
   "execution_count": 31,
   "metadata": {},
   "outputs": [],
   "source": [
    "#free memory\n",
    "del df_u\n",
    "del df_f\n",
    "del df_ORG\n",
    "del df_zero\n"
   ]
  },
  {
   "cell_type": "code",
   "execution_count": 33,
   "metadata": {},
   "outputs": [
    {
     "data": {
      "text/plain": [
       "20"
      ]
     },
     "execution_count": 33,
     "metadata": {},
     "output_type": "execute_result"
    },
    {
     "data": {
      "text/plain": [
       "0"
      ]
     },
     "execution_count": 33,
     "metadata": {},
     "output_type": "execute_result"
    }
   ],
   "source": [
    "gc.collect()\n",
    "gc.collect()\n",
    "\n"
   ]
  },
  {
   "cell_type": "code",
   "execution_count": 35,
   "metadata": {},
   "outputs": [],
   "source": [
    "#save to CSV\n",
    "df_trim.to_csv('df_trim.csv', header=False, index=False)"
   ]
  },
  {
   "cell_type": "code",
   "execution_count": null,
   "metadata": {},
   "outputs": [],
   "source": []
  },
  {
   "cell_type": "code",
   "execution_count": 6,
   "metadata": {},
   "outputs": [],
   "source": [
    "#load from CSV\n",
    "df_trim = pd.read_csv('df_trim.csv', index_col=False, names=['follower_id', 'user_id'])"
   ]
  },
  {
   "cell_type": "code",
   "execution_count": 7,
   "metadata": {},
   "outputs": [
    {
     "data": {
      "text/html": [
       "<div>\n",
       "<style scoped>\n",
       "    .dataframe tbody tr th:only-of-type {\n",
       "        vertical-align: middle;\n",
       "    }\n",
       "\n",
       "    .dataframe tbody tr th {\n",
       "        vertical-align: top;\n",
       "    }\n",
       "\n",
       "    .dataframe thead th {\n",
       "        text-align: right;\n",
       "    }\n",
       "</style>\n",
       "<table border=\"1\" class=\"dataframe\">\n",
       "  <thead>\n",
       "    <tr style=\"text-align: right;\">\n",
       "      <th></th>\n",
       "      <th>follower_id</th>\n",
       "      <th>user_id</th>\n",
       "    </tr>\n",
       "  </thead>\n",
       "  <tbody>\n",
       "    <tr>\n",
       "      <th>0</th>\n",
       "      <td>1</td>\n",
       "      <td>2</td>\n",
       "    </tr>\n",
       "    <tr>\n",
       "      <th>1</th>\n",
       "      <td>1</td>\n",
       "      <td>4</td>\n",
       "    </tr>\n",
       "    <tr>\n",
       "      <th>2</th>\n",
       "      <td>1</td>\n",
       "      <td>17896</td>\n",
       "    </tr>\n",
       "    <tr>\n",
       "      <th>3</th>\n",
       "      <td>1</td>\n",
       "      <td>21523</td>\n",
       "    </tr>\n",
       "    <tr>\n",
       "      <th>4</th>\n",
       "      <td>1</td>\n",
       "      <td>29121</td>\n",
       "    </tr>\n",
       "  </tbody>\n",
       "</table>\n",
       "</div>"
      ],
      "text/plain": [
       "   follower_id  user_id\n",
       "0            1        2\n",
       "1            1        4\n",
       "2            1    17896\n",
       "3            1    21523\n",
       "4            1    29121"
      ]
     },
     "execution_count": 7,
     "metadata": {},
     "output_type": "execute_result"
    }
   ],
   "source": [
    "df_trim.head()"
   ]
  },
  {
   "cell_type": "markdown",
   "metadata": {},
   "source": [
    "### Preliminar size of full network\n",
    "Before creating the Network, we can get some preliminar statistic about it:\n",
    "<br>Number of users = **3,775,490**\n",
    "<br>Number of edges (connections) = **29,583,654**\n",
    "<br>\n",
    "<br>At this point we have not validated if all listed users in file *users.csv* have an entry in *followers.csv*"
   ]
  },
  {
   "cell_type": "code",
   "execution_count": 8,
   "metadata": {},
   "outputs": [
    {
     "name": "stdout",
     "output_type": "stream",
     "text": [
      "Number of users: 3775490\n",
      "Number of edges: 29583654\n"
     ]
    }
   ],
   "source": [
    "print(\"Number of users:\", len(df_trim['user_id'].unique()))\n",
    "print(\"Number of edges:\", df_trim.shape[0])"
   ]
  },
  {
   "cell_type": "markdown",
   "metadata": {},
   "source": [
    "### Create full network of users"
   ]
  },
  {
   "cell_type": "code",
   "execution_count": 9,
   "metadata": {},
   "outputs": [],
   "source": [
    "#create empty directed Graph\n",
    "full_followers_graph = nx.DiGraph()"
   ]
  },
  {
   "cell_type": "code",
   "execution_count": 10,
   "metadata": {},
   "outputs": [],
   "source": [
    "# the directed graph maps the direction as: [follower --> user]\n",
    "# for this purpose, the graph is created using the dataframe as a list\n",
    "full_followers_graph.add_edges_from(df_trim.values.tolist())"
   ]
  },
  {
   "cell_type": "code",
   "execution_count": 11,
   "metadata": {},
   "outputs": [
    {
     "name": "stdout",
     "output_type": "stream",
     "text": [
      "Name: \n",
      "Type: DiGraph\n",
      "Number of nodes: 5351128\n",
      "Number of edges: 29583654\n",
      "Average in degree:   5.5285\n",
      "Average out degree:   5.5285\n"
     ]
    }
   ],
   "source": [
    "# print and check some stats about the full network\n",
    "print(nx.info(full_followers_graph))"
   ]
  },
  {
   "cell_type": "code",
   "execution_count": 12,
   "metadata": {},
   "outputs": [],
   "source": [
    "# calculates some statistics\n",
    "in_deg_freq, all_in_deg, out_deg_freq, all_out_deg = degree_freq(full_followers_graph)"
   ]
  },
  {
   "cell_type": "code",
   "execution_count": 28,
   "metadata": {},
   "outputs": [],
   "source": [
    "#save information in csv file\n",
    "\n",
    "(pd.DataFrame.from_dict(data=in_deg_freq, orient='index').to_csv('in_deg_freq.csv'))\n",
    "(pd.DataFrame.from_dict(data=all_in_deg,  orient='index').to_csv('all_in_deg.csv'))\n",
    "(pd.DataFrame.from_dict(data=out_deg_freq,orient='index').to_csv('out_deg_freq.csv'))\n",
    "(pd.DataFrame.from_dict(data=all_out_deg, orient='index').to_csv('all_out_deg.csv'))\n",
    "\n"
   ]
  },
  {
   "cell_type": "code",
   "execution_count": 13,
   "metadata": {},
   "outputs": [],
   "source": [
    "#parses list of indegree values and outdegree values\n",
    "idf = (sorted(in_deg_freq.items()))\n",
    "odf = (sorted(out_deg_freq.items()))"
   ]
  },
  {
   "cell_type": "code",
   "execution_count": 36,
   "metadata": {},
   "outputs": [],
   "source": [
    "#idf[-20:]"
   ]
  },
  {
   "cell_type": "code",
   "execution_count": 40,
   "metadata": {},
   "outputs": [
    {
     "data": {
      "text/plain": [
       "<Figure size 504x396 with 0 Axes>"
      ]
     },
     "execution_count": 40,
     "metadata": {},
     "output_type": "execute_result"
    },
    {
     "data": {
      "text/plain": [
       "[<matplotlib.lines.Line2D at 0x233e90f0>]"
      ]
     },
     "execution_count": 40,
     "metadata": {},
     "output_type": "execute_result"
    },
    {
     "data": {
      "text/plain": [
       "<matplotlib.legend.Legend at 0x256a4a58>"
      ]
     },
     "execution_count": 40,
     "metadata": {},
     "output_type": "execute_result"
    },
    {
     "data": {
      "text/plain": [
       "Text(0, 0.5, 'Degree')"
      ]
     },
     "execution_count": 40,
     "metadata": {},
     "output_type": "execute_result"
    },
    {
     "data": {
      "text/plain": [
       "Text(0.5, 0, 'Number of nodes')"
      ]
     },
     "execution_count": 40,
     "metadata": {},
     "output_type": "execute_result"
    },
    {
     "data": {
      "text/plain": [
       "Text(0.5, 1.0, 'Followers network in Github')"
      ]
     },
     "execution_count": 40,
     "metadata": {},
     "output_type": "execute_result"
    },
    {
     "data": {
      "image/png": "[encoded data removed]",
      "text/plain": [
       "<Figure size 504x396 with 1 Axes>"
      ]
     },
     "metadata": {
      "needs_background": "light"
     },
     "output_type": "display_data"
    },
    {
     "data": {
      "text/plain": [
       "<Figure size 432x288 with 0 Axes>"
      ]
     },
     "metadata": {},
     "output_type": "display_data"
    }
   ],
   "source": [
    "#plot degree frequency\n",
    "\n",
    "plt.figure(figsize =(7, 5.5))\n",
    "plt.grid(True)\n",
    "plt.loglog([v for (k,v) in idf], [k for (k,v) in idf], 'r-') # in-degree\n",
    "#plt.loglog([k for (k,v) in odf],[v for (k,v ) in odf], 'b-')  # out-degree\n",
    "plt.legend(['In-degree', 'Out-degree'])\n",
    "plt.ylabel('Degree')\n",
    "plt.xlabel('Number of nodes')\n",
    "plt.title('Followers network in Github')\n",
    "\n",
    "\n",
    "fig1 = plt.gcf()\n",
    "plt.show()\n",
    "plt.draw()\n",
    "fig1.savefig('degree_distribution_2019.png')"
   ]
  },
  {
   "cell_type": "code",
   "execution_count": 33,
   "metadata": {},
   "outputs": [
    {
     "data": {
      "text/plain": [
       "<Figure size 432x288 with 0 Axes>"
      ]
     },
     "metadata": {},
     "output_type": "display_data"
    }
   ],
   "source": []
  },
  {
   "cell_type": "code",
   "execution_count": null,
   "metadata": {},
   "outputs": [],
   "source": [
    "#save to CSV\n",
    "df_trim.to_csv('df_trim.csv', header=False, index=False)"
   ]
  },
  {
   "cell_type": "code",
   "execution_count": null,
   "metadata": {},
   "outputs": [],
   "source": []
  },
  {
   "cell_type": "code",
   "execution_count": 18,
   "metadata": {},
   "outputs": [],
   "source": [
    "#since we are not doing further calculations with this full network, we release the memory \n",
    "del full_followers_graph"
   ]
  },
  {
   "cell_type": "code",
   "execution_count": 20,
   "metadata": {},
   "outputs": [
    {
     "data": {
      "text/plain": [
       "20"
      ]
     },
     "execution_count": 20,
     "metadata": {},
     "output_type": "execute_result"
    },
    {
     "data": {
      "text/plain": [
       "0"
      ]
     },
     "execution_count": 20,
     "metadata": {},
     "output_type": "execute_result"
    }
   ],
   "source": [
    "#use the Garbage collect utility\n",
    "gc.collect()\n",
    "gc.collect()"
   ]
  }
 ],
 "metadata": {
  "kernelspec": {
   "display_name": "Python 3",
   "language": "python",
   "name": "python3"
  },
  "language_info": {
   "codemirror_mode": {
    "name": "ipython",
    "version": 3
   },
   "file_extension": ".py",
   "mimetype": "text/x-python",
   "name": "python",
   "nbconvert_exporter": "python",
   "pygments_lexer": "ipython3",
   "version": "3.7.3"
  }
 },
 "nbformat": 4,
 "nbformat_minor": 2
}
